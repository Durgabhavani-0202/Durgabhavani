{
 "cells": [
  {
   "cell_type": "code",
   "execution_count": 1,
   "metadata": {
    "scrolled": true
   },
   "outputs": [
    {
     "name": "stdout",
     "output_type": "stream",
     "text": [
      "enter set of numbers487654\n",
      "['4', '8', '7', '6', '5', '4']\n",
      "hightest number is: 8\n"
     ]
    }
   ],
   "source": [
    "try:\n",
    "    input1 = input(\"enter set of numbers\")\n",
    "    int(input1)\n",
    "    input1 = list(input1)\n",
    "    print(input1)\n",
    "    input1.sort()\n",
    "    print(\"hightest number is:\",input1[-1])\n",
    "except ValueError:\n",
    "    print(\"please enter numerical data\")"
   ]
  },
  {
   "cell_type": "code",
   "execution_count": 2,
   "metadata": {},
   "outputs": [
    {
     "name": "stdout",
     "output_type": "stream",
     "text": [
      "enter set of numbers76uyhg78yu\n",
      "please enter numerical data\n"
     ]
    }
   ],
   "source": [
    "try:\n",
    "    input1 = input(\"enter set of numbers\")\n",
    "    int(input1)\n",
    "    input1 = list(input1)\n",
    "    print(input1)\n",
    "    input1.sort()\n",
    "    print(\"hightest number is:\",input1[-1])\n",
    "except ValueError:\n",
    "    print(\"please enter numerical data\")"
   ]
  },
  {
   "cell_type": "code",
   "execution_count": null,
   "metadata": {},
   "outputs": [],
   "source": []
  }
 ],
 "metadata": {
  "kernelspec": {
   "display_name": "Python 3",
   "language": "python",
   "name": "python3"
  },
  "language_info": {
   "codemirror_mode": {
    "name": "ipython",
    "version": 3
   },
   "file_extension": ".py",
   "mimetype": "text/x-python",
   "name": "python",
   "nbconvert_exporter": "python",
   "pygments_lexer": "ipython3",
   "version": "3.8.5"
  }
 },
 "nbformat": 4,
 "nbformat_minor": 4
}
