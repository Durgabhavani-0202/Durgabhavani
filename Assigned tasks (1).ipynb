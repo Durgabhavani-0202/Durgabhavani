{
 "cells": [
  {
   "cell_type": "code",
   "execution_count": 113,
   "metadata": {},
   "outputs": [
    {
     "name": "stdout",
     "output_type": "stream",
     "text": [
      "[1, 2, 3, 4, 5, 6, 7, 8, 9]\n",
      "[9, 7, 5, 4, 4, 3, 2, 1]\n",
      "[1, 2, 3, 4, 5, 6, 7, 8, 9, 10]\n",
      "[9, 7, 5, 4, 3, 2, 1]\n",
      "[1, 2, 3, 4, 5, 6, 7, 8, 9, 10, 11]\n",
      "97\n",
      "1\n",
      "9\n",
      "2\n"
     ]
    }
   ],
   "source": [
    "#task 1\n",
    "#in built functions\n",
    "a = [1,2,3,4,5,6,7,8,9]\n",
    "b = [9,7,5,4,4,3,2,1]\n",
    "print(a)\n",
    "print(b)\n",
    "a.insert(10,10)\n",
    "print(a)\n",
    "b.remove(4)\n",
    "print(b)\n",
    "d = [11]\n",
    "a.extend(d)\n",
    "print(a)\n",
    "c = sum(a+b)\n",
    "print(c)\n",
    "print(min(a))\n",
    "print(max(b))\n",
    "print(a.index(3))"
   ]
  },
  {
   "cell_type": "code",
   "execution_count": 100,
   "metadata": {},
   "outputs": [
    {
     "name": "stdout",
     "output_type": "stream",
     "text": [
      "to is not existed\n"
     ]
    }
   ],
   "source": [
    "#task 2\n",
    "str1 = \"welcome to python\"\n",
    "str2 = \"to\"\n",
    "if (str1.count(str2)) == 1:\n",
    "    print(\"to is not existed\")\n",
    "else:\n",
    "    print(\"to is not existed\")"
   ]
  },
  {
   "cell_type": "code",
   "execution_count": 123,
   "metadata": {},
   "outputs": [
    {
     "name": "stdout",
     "output_type": "stream",
     "text": [
      "[11, 10, 9, 8, 7, 6, 5, 4, 3, 2, 1]\n",
      "[]\n"
     ]
    }
   ],
   "source": [
    "#task 3.1\n",
    "a = [1,2,3,4,5,6,7,8,9,10,11]\n",
    "a.sort(reverse=1)\n",
    "print(a)\n",
    "a.clear()\n",
    "print(a)"
   ]
  },
  {
   "cell_type": "code",
   "execution_count": 122,
   "metadata": {},
   "outputs": [
    {
     "data": {
      "text/plain": [
       "['python', 'email', 5, 6]"
      ]
     },
     "execution_count": 122,
     "metadata": {},
     "output_type": "execute_result"
    }
   ],
   "source": [
    "#task 3.2\n",
    "# create a list of lenght = 10 and access 5th to 8th data.\n",
    "\n",
    "list1 = [1,2,3,\"hlo\",\"python\",\"email\",5,6,7,11]\n",
    "len(list1)\n",
    "list1[4:8]\n"
   ]
  },
  {
   "cell_type": "code",
   "execution_count": 53,
   "metadata": {},
   "outputs": [
    {
     "data": {
      "text/plain": [
       "[10, 20, [30, 40, [50, 60, 70], 80], 90, 100]"
      ]
     },
     "execution_count": 53,
     "metadata": {},
     "output_type": "execute_result"
    }
   ],
   "source": [
    "#task 4.1\n",
    "#Add item 70 after 60 in the following Python List\n",
    "#input\n",
    "l1 = [10, 20, [30, 40, [50, 60], 80], 90, 100]\n",
    "l1[2][2]=70"
   ]
  },
  {
   "cell_type": "code",
   "execution_count": 54,
   "metadata": {},
   "outputs": [
    {
     "data": {
      "text/plain": [
       "[1, 2, [3, 4, 5, 6, [7, 8]], 9]"
      ]
     },
     "execution_count": 54,
     "metadata": {},
     "output_type": "execute_result"
    }
   ],
   "source": [
    "#task 4.2\n",
    "#add sublist [7,8] after 6\n",
    "#input\n",
    "l2 = [1,2,[3,4,5,6],9]\n",
    "l2[2:] = [7,8]"
   ]
  },
  {
   "cell_type": "code",
   "execution_count": 67,
   "metadata": {},
   "outputs": [
    {
     "data": {
      "text/plain": [
       "'Mike'"
      ]
     },
     "execution_count": 67,
     "metadata": {},
     "output_type": "execute_result"
    }
   ],
   "source": [
    "#task 5\n",
    "dict1 = { \n",
    "   \"april_batch\":{ \n",
    "      \"student\":{ \n",
    "         \"name\":\"Mike\",\n",
    "         \"marks\":{ \n",
    "            \"python\":80,\n",
    "            \"maths\":70\n",
    "         }\n",
    "      }\n",
    "   }\n",
    "}\n",
    "\n",
    "#access \"Mike\"\n",
    "dict1[\"april_batch\"][\"student\"][\"name\"]\n"
   ]
  },
  {
   "cell_type": "code",
   "execution_count": 68,
   "metadata": {},
   "outputs": [
    {
     "data": {
      "text/plain": [
       "80"
      ]
     },
     "execution_count": 68,
     "metadata": {},
     "output_type": "execute_result"
    }
   ],
   "source": [
    "\n",
    "#access 80\n",
    "dict1[\"april_batch\"][\"student\"][\"marks\"][\"python\"]"
   ]
  },
  {
   "cell_type": "code",
   "execution_count": 70,
   "metadata": {},
   "outputs": [
    {
     "data": {
      "text/plain": [
       "{'april_batch': {'student': {'name': 'durga',\n",
       "   'marks': {'python': 80, 'maths': 70}}}}"
      ]
     },
     "execution_count": 70,
     "metadata": {},
     "output_type": "execute_result"
    }
   ],
   "source": [
    "#change \"Mike\" to \"Your name\"\n",
    "dict1[\"april_batch\"][\"student\"][\"name\"]=\"durga\"\n",
    "dict1"
   ]
  },
  {
   "cell_type": "code",
   "execution_count": 79,
   "metadata": {},
   "outputs": [
    {
     "data": {
      "text/plain": [
       "{'april_batch': {'student': {'name': 'durga',\n",
       "   'marks': {'python': 80, 'maths': 70, 'DL': 80, 'ML': 80}}}}"
      ]
     },
     "execution_count": 79,
     "metadata": {},
     "output_type": "execute_result"
    }
   ],
   "source": [
    "#add ML = 80 and DL = 80 inside marks\n",
    "dict1[\"april_batch\"][\"student\"][\"marks\"][\"DL\"]=80\n",
    "dict1\n",
    "dict1[\"april_batch\"][\"student\"][\"marks\"][\"ML\"]=80\n",
    "dict1"
   ]
  },
  {
   "cell_type": "code",
   "execution_count": 80,
   "metadata": {},
   "outputs": [
    {
     "data": {
      "text/plain": [
       "(1, 2, 3, 'durga', 'live', 'guntur', 2.3, 1.1)"
      ]
     },
     "execution_count": 80,
     "metadata": {},
     "output_type": "execute_result"
    }
   ],
   "source": [
    "#Task6 - Add and remove the elements from a tuple.\n",
    "\n",
    "tup1 = (1,2,3,\"durga\",\"live\",\"guntur\",2.3,1.1)\n",
    "tup1"
   ]
  },
  {
   "cell_type": "code",
   "execution_count": 81,
   "metadata": {},
   "outputs": [
    {
     "data": {
      "text/plain": [
       "[1, 2, 3, 'durga', 'live', 'guntur', 2.3, 1.1]"
      ]
     },
     "execution_count": 81,
     "metadata": {},
     "output_type": "execute_result"
    }
   ],
   "source": [
    "#add element\n",
    "list1 = list(tup1)\n",
    "list1"
   ]
  },
  {
   "cell_type": "code",
   "execution_count": 82,
   "metadata": {},
   "outputs": [
    {
     "data": {
      "text/plain": [
       "8"
      ]
     },
     "execution_count": 82,
     "metadata": {},
     "output_type": "execute_result"
    }
   ],
   "source": [
    "len(list1)"
   ]
  },
  {
   "cell_type": "code",
   "execution_count": 84,
   "metadata": {},
   "outputs": [
    {
     "data": {
      "text/plain": [
       "[1, 2, 3, 'durga', 'live', 'guntur', 2.3, 1.1, 11]"
      ]
     },
     "execution_count": 84,
     "metadata": {},
     "output_type": "execute_result"
    }
   ],
   "source": [
    "list1.insert(9,11)\n",
    "list1"
   ]
  },
  {
   "cell_type": "code",
   "execution_count": 85,
   "metadata": {},
   "outputs": [
    {
     "data": {
      "text/plain": [
       "[1, 2, 3, 'durga', 'guntur', 2.3, 1.1, 11]"
      ]
     },
     "execution_count": 85,
     "metadata": {},
     "output_type": "execute_result"
    }
   ],
   "source": [
    "#remove element\n",
    "list1.pop(4)\n",
    "list1"
   ]
  },
  {
   "cell_type": "code",
   "execution_count": 86,
   "metadata": {},
   "outputs": [
    {
     "data": {
      "text/plain": [
       "(1, 2, 3, 'durga', 'guntur', 2.3, 1.1, 11)"
      ]
     },
     "execution_count": 86,
     "metadata": {},
     "output_type": "execute_result"
    }
   ],
   "source": [
    "tup1 = tuple(list1)\n",
    "tup1"
   ]
  },
  {
   "cell_type": "code",
   "execution_count": 88,
   "metadata": {},
   "outputs": [
    {
     "name": "stdout",
     "output_type": "stream",
     "text": [
      "{80, 100, 20}\n",
      "{40, 50, 90}\n",
      "{80, 50, 100, 90, 20, 40}\n"
     ]
    }
   ],
   "source": [
    "#task 7\n",
    "#difference()\n",
    "data1 = {10,20,30,70,80,100}\n",
    "data2 = {10,30,40,50,70,90}\n",
    "print(data1.difference(data2))\n",
    "print(data2.difference(data1))\n",
    "\n",
    "#symmetric_difference()\n",
    "print(data1.symmetric_difference(data2))\n"
   ]
  },
  {
   "cell_type": "code",
   "execution_count": 1,
   "metadata": {},
   "outputs": [
    {
     "ename": "SyntaxError",
     "evalue": "invalid syntax (<ipython-input-1-539bad2b6af7>, line 5)",
     "output_type": "error",
     "traceback": [
      "\u001b[1;36m  File \u001b[1;32m\"<ipython-input-1-539bad2b6af7>\"\u001b[1;36m, line \u001b[1;32m5\u001b[0m\n\u001b[1;33m    - dfferent data elements\u001b[0m\n\u001b[1;37m               ^\u001b[0m\n\u001b[1;31mSyntaxError\u001b[0m\u001b[1;31m:\u001b[0m invalid syntax\n"
     ]
    }
   ],
   "source": [
    "#task 8\n",
    "#inbuilt data structures\n",
    "##list - represented by []\n",
    "- indexation and slicing is possible\n",
    "- dfferent data elements\n",
    "- immutable\n",
    "\n",
    "##sets - represented by {}\n",
    "- indexation and slicing is not possible\n",
    "- dfferent data elements\n",
    "- mutable\n",
    "- can not modify existing element\n",
    "- duplicate elements are not possible\n",
    "\n",
    "\n",
    "##tuple - represented by ()\n",
    "- indexation and slicing is not possible\n",
    "- dfferent data elements\n",
    "- immutable\n",
    "- duplicate elements are possible\n",
    "\n",
    "##dictionary - represented by {key : value}\n",
    "- indexation and slicing is possible\n",
    "- dfferent data elements\n",
    "- immutable\n",
    "\n",
    "\n"
   ]
  },
  {
   "cell_type": "code",
   "execution_count": 2,
   "metadata": {},
   "outputs": [
    {
     "name": "stdout",
     "output_type": "stream",
     "text": [
      "enter first number3\n",
      "enter second number2\n",
      "press 1 for addition 2 for subtraction 3 for multiplication and 4 for division1\n",
      "5\n"
     ]
    }
   ],
   "source": [
    "#task 9\n",
    "num1 = input(\"enter first number\")\n",
    "num2 = input(\"enter second number\")\n",
    "num1 = int(num1)\n",
    "num2 = int(num2)\n",
    "number = [1,2,3,4]\n",
    "i = input(\"press 1 for addition 2 for subtraction 3 for multiplication and 4 for division\")\n",
    "i = int(i)\n",
    "if (i == number[0]):\n",
    "    print(num1 + num2)\n",
    "elif (i == number[1]):\n",
    "    print(num1 - num2)\n",
    "elif (i == number[2]):\n",
    "    print(num1 * num2)\n",
    "elif (i == number[3]):\n",
    "    print(num1 / num2)\n",
    "    \n",
    "else:\n",
    "    print(\"you have given wrong input\")\n"
   ]
  },
  {
   "cell_type": "code",
   "execution_count": 3,
   "metadata": {},
   "outputs": [
    {
     "name": "stdout",
     "output_type": "stream",
     "text": [
      "0\n",
      "3\n",
      "6\n",
      "9\n",
      "12\n",
      "15\n",
      "18\n",
      "21\n",
      "24\n",
      "27\n"
     ]
    }
   ],
   "source": [
    "#task 10.1\n",
    "#Task 10.1 = what is the uasge of continue wiith an example\n",
    "for i in range(30):\n",
    "    if(i%3==0):\n",
    "        print(i)\n",
    "    else:\n",
    "        continue"
   ]
  },
  {
   "cell_type": "code",
   "execution_count": 9,
   "metadata": {},
   "outputs": [],
   "source": [
    "#task 10.2\n",
    "#Task 10.2 What is pass keyword, with example.\n",
    "# pass - instead of throwing error, pass will print nothing in the absence of code\n",
    "for i in range(17):\n",
    "    pass"
   ]
  },
  {
   "cell_type": "code",
   "execution_count": 1,
   "metadata": {},
   "outputs": [
    {
     "name": "stdout",
     "output_type": "stream",
     "text": [
      "10\n",
      "9\n",
      "8\n",
      "7\n",
      "6\n",
      "5\n",
      "4\n",
      "3\n",
      "2\n",
      "1\n"
     ]
    }
   ],
   "source": [
    "#task 10\n",
    "#using while loop print numbers from 10 to 1\n",
    "i = 10\n",
    "while (i<=10):\n",
    "    print(i)\n",
    "    i = i-1\n",
    "    if(i==0):\n",
    "        break"
   ]
  },
  {
   "cell_type": "code",
   "execution_count": 5,
   "metadata": {},
   "outputs": [
    {
     "name": "stdout",
     "output_type": "stream",
     "text": [
      "human\n",
      "1\n",
      "3\n"
     ]
    }
   ],
   "source": [
    "#task 10\n",
    "#try using for loop to loop over tuples,sets and dictionaries\n",
    "seq = (\"human\",1,3)\n",
    "for item in seq:\n",
    "    print(item)"
   ]
  },
  {
   "cell_type": "code",
   "execution_count": 6,
   "metadata": {},
   "outputs": [
    {
     "name": "stdout",
     "output_type": "stream",
     "text": [
      "a value is{} and b value is{}.format(a,b)\n"
     ]
    }
   ],
   "source": [
    "#task 11\n",
    "#return\n",
    "def mul(a,b):\n",
    "    c=a*b\n",
    "    return c\n",
    "print(\"a value is{} and b value is{}.format(a,b)\")"
   ]
  },
  {
   "cell_type": "code",
   "execution_count": 7,
   "metadata": {},
   "outputs": [
    {
     "data": {
      "text/plain": [
       "3"
      ]
     },
     "execution_count": 7,
     "metadata": {},
     "output_type": "execute_result"
    }
   ],
   "source": [
    "mul(1,3) # print() is not executed. Because statements afterreturn will not get executed"
   ]
  },
  {
   "cell_type": "code",
   "execution_count": 23,
   "metadata": {},
   "outputs": [
    {
     "name": "stdout",
     "output_type": "stream",
     "text": [
      "enter first number10\n",
      "enter second number30\n",
      "press 1 for addition 2 for subtraction 3 for multiplication and 4 for division2\n"
     ]
    }
   ],
   "source": [
    "#task 11\n",
    "#Ask 2 numbers from users and store it in num1 and num2\n",
    "#Ask user to press 1 for addition,2 for subtraction,3 for multiplication and 4 for division\n",
    "#create 4 seperate functions for each operation (i.e. addition,subtraction,multiplication and division)\n",
    "#based on number given by user,call that perticular function and print the output\n",
    "num1 = input(\"enter first number\")\n",
    "num2 = input(\"enter second number\")\n",
    "num1 = int(num1)\n",
    "num2 = int(num2)\n",
    "number = [1,2,3,4]\n",
    "i = input(\"press 1 for addition 2 for subtraction 3 for multiplication and 4 for division\")\n",
    "i = int(i)\n",
    "if (i == number[0]):\n",
    "    add(num1,num2)\n",
    "elif (i == number[1]):\n",
    "    sub(num1,num2)\n",
    "elif (i == number[2]):\n",
    "    mul(num1,num2)\n",
    "elif (i == number[3]):\n",
    "    div(num1,num2)\n",
    "else:\n",
    "    print(\"please enter valid number\")\n",
    "def add(num1,num2):\n",
    "    num3 = num1+num2\n",
    "    return num3\n",
    "def sub(num1,num2):\n",
    "    num3 = num1-num2\n",
    "    return num3\n",
    "def mul(num1,num2):\n",
    "    num3 = num1*num2\n",
    "    return num3\n",
    "def div(num1,num2):\n",
    "    num3 = num1/num2\n",
    "    return num3"
   ]
  },
  {
   "cell_type": "code",
   "execution_count": 10,
   "metadata": {},
   "outputs": [
    {
     "name": "stdout",
     "output_type": "stream",
     "text": [
      "[('mint', 'chicken'), ('mushroom', 'mutton')]\n",
      "[(1, 2), (1, 3), (2, 5), (3, 5), (3, 6), (4, 6), (5, 11)]\n"
     ]
    }
   ],
   "source": [
    "#task 12\n",
    "#zip()\n",
    "\n",
    "veg = (\"mint\",\"mushroom\")\n",
    "n_veg = (\"chicken\",\"mutton\")\n",
    "\n",
    "num1 = [1,1,2,3,3,4,5,6,6]\n",
    "num2 = [2,3,5,5,6,6,11]\n",
    "\n",
    "menu = zip(veg, n_veg)\n",
    "print(list(menu))\n",
    "\n",
    "num = zip(num1, num2)\n",
    "print(list(num))"
   ]
  },
  {
   "cell_type": "code",
   "execution_count": 11,
   "metadata": {},
   "outputs": [],
   "source": [
    "import functools"
   ]
  },
  {
   "cell_type": "code",
   "execution_count": 25,
   "metadata": {},
   "outputs": [
    {
     "name": "stdout",
     "output_type": "stream",
     "text": [
      "14.2\n"
     ]
    }
   ],
   "source": [
    "#reduce()\n",
    "l1 = [3,6.2,1,1,3]\n",
    "print(functools.reduce(lambda a,b:a+b, l1))"
   ]
  },
  {
   "cell_type": "code",
   "execution_count": 33,
   "metadata": {},
   "outputs": [],
   "source": [
    "#enumerate()\n",
    "n_veg = (\"chicken\",\"mutton\")\n",
    "p = list(enumerate(n_veg))"
   ]
  },
  {
   "cell_type": "code",
   "execution_count": 34,
   "metadata": {},
   "outputs": [
    {
     "data": {
      "text/plain": [
       "[(0, 'chicken'), (1, 'mutton')]"
      ]
     },
     "execution_count": 34,
     "metadata": {},
     "output_type": "execute_result"
    }
   ],
   "source": [
    "p"
   ]
  },
  {
   "cell_type": "code",
   "execution_count": null,
   "metadata": {},
   "outputs": [],
   "source": []
  }
 ],
 "metadata": {
  "kernelspec": {
   "display_name": "Python 3",
   "language": "python",
   "name": "python3"
  },
  "language_info": {
   "codemirror_mode": {
    "name": "ipython",
    "version": 3
   },
   "file_extension": ".py",
   "mimetype": "text/x-python",
   "name": "python",
   "nbconvert_exporter": "python",
   "pygments_lexer": "ipython3",
   "version": "3.8.5"
  }
 },
 "nbformat": 4,
 "nbformat_minor": 4
}
