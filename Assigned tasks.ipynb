{
 "cells": [
  {
   "cell_type": "code",
   "execution_count": 113,
   "metadata": {},
   "outputs": [
    {
     "name": "stdout",
     "output_type": "stream",
     "text": [
      "[1, 2, 3, 4, 5, 6, 7, 8, 9]\n",
      "[9, 7, 5, 4, 4, 3, 2, 1]\n",
      "[1, 2, 3, 4, 5, 6, 7, 8, 9, 10]\n",
      "[9, 7, 5, 4, 3, 2, 1]\n",
      "[1, 2, 3, 4, 5, 6, 7, 8, 9, 10, 11]\n",
      "97\n",
      "1\n",
      "9\n",
      "2\n"
     ]
    }
   ],
   "source": [
    "#task 1\n",
    "#in built functions\n",
    "a = [1,2,3,4,5,6,7,8,9]\n",
    "b = [9,7,5,4,4,3,2,1]\n",
    "print(a)\n",
    "print(b)\n",
    "a.insert(10,10)\n",
    "print(a)\n",
    "b.remove(4)\n",
    "print(b)\n",
    "d = [11]\n",
    "a.extend(d)\n",
    "print(a)\n",
    "c = sum(a+b)\n",
    "print(c)\n",
    "print(min(a))\n",
    "print(max(b))\n",
    "print(a.index(3))"
   ]
  },
  {
   "cell_type": "code",
   "execution_count": 100,
   "metadata": {},
   "outputs": [
    {
     "name": "stdout",
     "output_type": "stream",
     "text": [
      "to is not existed\n"
     ]
    }
   ],
   "source": [
    "#task 2\n",
    "str1 = \"welcome to python\"\n",
    "str2 = \"to\"\n",
    "if (str1.count(str2)) == 1:\n",
    "    print(\"to is not existed\")\n",
    "else:\n",
    "    print(\"to is not existed\")"
   ]
  },
  {
   "cell_type": "code",
   "execution_count": 123,
   "metadata": {},
   "outputs": [
    {
     "name": "stdout",
     "output_type": "stream",
     "text": [
      "[11, 10, 9, 8, 7, 6, 5, 4, 3, 2, 1]\n",
      "[]\n"
     ]
    }
   ],
   "source": [
    "#task 3.1\n",
    "a = [1,2,3,4,5,6,7,8,9,10,11]\n",
    "a.sort(reverse=1)\n",
    "print(a)\n",
    "a.clear()\n",
    "print(a)"
   ]
  },
  {
   "cell_type": "code",
   "execution_count": 122,
   "metadata": {},
   "outputs": [
    {
     "data": {
      "text/plain": [
       "['python', 'email', 5, 6]"
      ]
     },
     "execution_count": 122,
     "metadata": {},
     "output_type": "execute_result"
    }
   ],
   "source": [
    "#task 3.2\n",
    "# create a list of lenght = 10 and access 5th to 8th data.\n",
    "\n",
    "list1 = [1,2,3,\"hlo\",\"python\",\"email\",5,6,7,11]\n",
    "len(list1)\n",
    "list1[4:8]\n"
   ]
  },
  {
   "cell_type": "code",
   "execution_count": 53,
   "metadata": {},
   "outputs": [
    {
     "data": {
      "text/plain": [
       "[10, 20, [30, 40, [50, 60, 70], 80], 90, 100]"
      ]
     },
     "execution_count": 53,
     "metadata": {},
     "output_type": "execute_result"
    }
   ],
   "source": [
    "#task 4.1\n",
    "#Add item 70 after 60 in the following Python List\n",
    "#input\n",
    "l1 = [10, 20, [30, 40, [50, 60], 80], 90, 100]\n",
    "l1[2][2]=70"
   ]
  },
  {
   "cell_type": "code",
   "execution_count": 54,
   "metadata": {},
   "outputs": [
    {
     "data": {
      "text/plain": [
       "[1, 2, [3, 4, 5, 6, [7, 8]], 9]"
      ]
     },
     "execution_count": 54,
     "metadata": {},
     "output_type": "execute_result"
    }
   ],
   "source": [
    "#task 4.2\n",
    "#add sublist [7,8] after 6\n",
    "#input\n",
    "l2 = [1,2,[3,4,5,6],9]\n",
    "l2[2:] = [7,8]"
   ]
  },
  {
   "cell_type": "code",
   "execution_count": 67,
   "metadata": {},
   "outputs": [
    {
     "data": {
      "text/plain": [
       "'Mike'"
      ]
     },
     "execution_count": 67,
     "metadata": {},
     "output_type": "execute_result"
    }
   ],
   "source": [
    "#task 5\n",
    "dict1 = { \n",
    "   \"april_batch\":{ \n",
    "      \"student\":{ \n",
    "         \"name\":\"Mike\",\n",
    "         \"marks\":{ \n",
    "            \"python\":80,\n",
    "            \"maths\":70\n",
    "         }\n",
    "      }\n",
    "   }\n",
    "}\n",
    "\n",
    "#access \"Mike\"\n",
    "dict1[\"april_batch\"][\"student\"][\"name\"]\n"
   ]
  },
  {
   "cell_type": "code",
   "execution_count": 68,
   "metadata": {},
   "outputs": [
    {
     "data": {
      "text/plain": [
       "80"
      ]
     },
     "execution_count": 68,
     "metadata": {},
     "output_type": "execute_result"
    }
   ],
   "source": [
    "\n",
    "#access 80\n",
    "dict1[\"april_batch\"][\"student\"][\"marks\"][\"python\"]"
   ]
  },
  {
   "cell_type": "code",
   "execution_count": 70,
   "metadata": {},
   "outputs": [
    {
     "data": {
      "text/plain": [
       "{'april_batch': {'student': {'name': 'durga',\n",
       "   'marks': {'python': 80, 'maths': 70}}}}"
      ]
     },
     "execution_count": 70,
     "metadata": {},
     "output_type": "execute_result"
    }
   ],
   "source": [
    "#change \"Mike\" to \"Your name\"\n",
    "dict1[\"april_batch\"][\"student\"][\"name\"]=\"durga\"\n",
    "dict1"
   ]
  },
  {
   "cell_type": "code",
   "execution_count": 79,
   "metadata": {},
   "outputs": [
    {
     "data": {
      "text/plain": [
       "{'april_batch': {'student': {'name': 'durga',\n",
       "   'marks': {'python': 80, 'maths': 70, 'DL': 80, 'ML': 80}}}}"
      ]
     },
     "execution_count": 79,
     "metadata": {},
     "output_type": "execute_result"
    }
   ],
   "source": [
    "#add ML = 80 and DL = 80 inside marks\n",
    "dict1[\"april_batch\"][\"student\"][\"marks\"][\"DL\"]=80\n",
    "dict1\n",
    "dict1[\"april_batch\"][\"student\"][\"marks\"][\"ML\"]=80\n",
    "dict1"
   ]
  },
  {
   "cell_type": "code",
   "execution_count": 80,
   "metadata": {},
   "outputs": [
    {
     "data": {
      "text/plain": [
       "(1, 2, 3, 'durga', 'live', 'guntur', 2.3, 1.1)"
      ]
     },
     "execution_count": 80,
     "metadata": {},
     "output_type": "execute_result"
    }
   ],
   "source": [
    "#Task6 - Add and remove the elements from a tuple.\n",
    "\n",
    "tup1 = (1,2,3,\"durga\",\"live\",\"guntur\",2.3,1.1)\n",
    "tup1"
   ]
  },
  {
   "cell_type": "code",
   "execution_count": 81,
   "metadata": {},
   "outputs": [
    {
     "data": {
      "text/plain": [
       "[1, 2, 3, 'durga', 'live', 'guntur', 2.3, 1.1]"
      ]
     },
     "execution_count": 81,
     "metadata": {},
     "output_type": "execute_result"
    }
   ],
   "source": [
    "#add element\n",
    "list1 = list(tup1)\n",
    "list1"
   ]
  },
  {
   "cell_type": "code",
   "execution_count": 82,
   "metadata": {},
   "outputs": [
    {
     "data": {
      "text/plain": [
       "8"
      ]
     },
     "execution_count": 82,
     "metadata": {},
     "output_type": "execute_result"
    }
   ],
   "source": [
    "len(list1)"
   ]
  },
  {
   "cell_type": "code",
   "execution_count": 84,
   "metadata": {},
   "outputs": [
    {
     "data": {
      "text/plain": [
       "[1, 2, 3, 'durga', 'live', 'guntur', 2.3, 1.1, 11]"
      ]
     },
     "execution_count": 84,
     "metadata": {},
     "output_type": "execute_result"
    }
   ],
   "source": [
    "list1.insert(9,11)\n",
    "list1"
   ]
  },
  {
   "cell_type": "code",
   "execution_count": 85,
   "metadata": {},
   "outputs": [
    {
     "data": {
      "text/plain": [
       "[1, 2, 3, 'durga', 'guntur', 2.3, 1.1, 11]"
      ]
     },
     "execution_count": 85,
     "metadata": {},
     "output_type": "execute_result"
    }
   ],
   "source": [
    "#remove element\n",
    "list1.pop(4)\n",
    "list1"
   ]
  },
  {
   "cell_type": "code",
   "execution_count": 86,
   "metadata": {},
   "outputs": [
    {
     "data": {
      "text/plain": [
       "(1, 2, 3, 'durga', 'guntur', 2.3, 1.1, 11)"
      ]
     },
     "execution_count": 86,
     "metadata": {},
     "output_type": "execute_result"
    }
   ],
   "source": [
    "tup1 = tuple(list1)\n",
    "tup1"
   ]
  },
  {
   "cell_type": "code",
   "execution_count": 88,
   "metadata": {},
   "outputs": [
    {
     "name": "stdout",
     "output_type": "stream",
     "text": [
      "{80, 100, 20}\n",
      "{40, 50, 90}\n",
      "{80, 50, 100, 90, 20, 40}\n"
     ]
    }
   ],
   "source": [
    "#task 7\n",
    "#difference()\n",
    "data1 = {10,20,30,70,80,100}\n",
    "data2 = {10,30,40,50,70,90}\n",
    "print(data1.difference(data2))\n",
    "print(data2.difference(data1))\n",
    "\n",
    "#symmetric_difference()\n",
    "print(data1.symmetric_difference(data2))\n"
   ]
  },
  {
   "cell_type": "code",
   "execution_count": null,
   "metadata": {},
   "outputs": [],
   "source": [
    "#task 8\n",
    "#inbuilt data structures\n",
    "##list - represented by []\n",
    "- indexation and slicing is possible\n",
    "- dfferent data elements\n",
    "- immutable\n",
    "\n",
    "##sets - represented by {}\n",
    "- indexation and slicing is not possible\n",
    "- dfferent data elements\n",
    "- mutable\n",
    "- can not modify existing element\n",
    "- duplicate elements are not possible\n",
    "\n",
    "\n",
    "##tuple - represented by ()\n",
    "- indexation and slicing is not possible\n",
    "- dfferent data elements\n",
    "- immutable\n",
    "- duplicate elements are possible\n",
    "\n",
    "##dictionary - represented by {key : value}\n",
    "- indexation and slicing is possible\n",
    "- dfferent data elements\n",
    "- immutable\n",
    "\n",
    "\n"
   ]
  }
 ],
 "metadata": {
  "kernelspec": {
   "display_name": "Python 3",
   "language": "python",
   "name": "python3"
  },
  "language_info": {
   "codemirror_mode": {
    "name": "ipython",
    "version": 3
   },
   "file_extension": ".py",
   "mimetype": "text/x-python",
   "name": "python",
   "nbconvert_exporter": "python",
   "pygments_lexer": "ipython3",
   "version": "3.8.5"
  }
 },
 "nbformat": 4,
 "nbformat_minor": 4
}
